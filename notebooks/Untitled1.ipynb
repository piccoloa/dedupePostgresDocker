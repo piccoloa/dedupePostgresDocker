{
 "cells": [
  {
   "cell_type": "code",
   "execution_count": null,
   "metadata": {},
   "outputs": [],
   "source": [
    "SELECT a.donor_id, a.canon_id, a.cluster_score, b.last_name\n",
    "FROM \"entity_map\" a\n",
    "left join donors b on a.donor_id=b.donor_id\n",
    "LIMIT 50"
   ]
  },
  {
   "cell_type": "code",
   "execution_count": null,
   "metadata": {},
   "outputs": [],
   "source": [
    "Select count(a.canon_id)\n",
    "--b.last_name\n",
    "FROM \"entity_map\" a\n",
    "\n",
    "--b.last_name\n",
    "where a.canon_id in \n",
    "(SELECT count(*) \n",
    "               FROM \"entity_map\" \n",
    "               GROUP BY canon_id HAVING COUNT(*) > 1)\n",
    "--left join donors b on a.donor_id=b.donor_id \n",
    "group by a.canon_id\n",
    "order by count(a.canon_id) desc"
   ]
  }
 ],
 "metadata": {
  "kernelspec": {
   "display_name": "Python 3",
   "language": "python",
   "name": "python3"
  },
  "language_info": {
   "codemirror_mode": {
    "name": "ipython",
    "version": 3
   },
   "file_extension": ".py",
   "mimetype": "text/x-python",
   "name": "python",
   "nbconvert_exporter": "python",
   "pygments_lexer": "ipython3",
   "version": "3.6.5"
  }
 },
 "nbformat": 4,
 "nbformat_minor": 2
}
